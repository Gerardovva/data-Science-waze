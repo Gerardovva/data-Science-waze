{
 "cells": [
  {
   "cell_type": "markdown",
   "metadata": {
    "id": "DtNBZFHO3M7n"
   },
   "source": [
    "# **Proyecto Waze**\n",
    "**Curso 4: El poder de las estadísticas**"
   ]
  },
  {
   "cell_type": "markdown",
   "metadata": {
    "id": "WVeXS7BNzX6e"
   },
   "source": [
    "Tu equipo se acerca a la mitad de su proyecto de rotación de usuarios. Hasta ahora, has completado una propuesta de proyecto, y has utilizado Python para explorar y analizar los datos de usuario de Waze. También has utilizado Python para crear visualizaciones de datos. El siguiente paso es utilizar métodos estadísticos para analizar e interpretar tus datos.\n",
    "\n",
    "Recibes un nuevo correo electrónico de Sylvester Esperanza, tu jefe de proyecto. Sylvester informa a su equipo de una nueva petición de la dirección: analizar la relación entre la cantidad media de viajes y el tipo de dispositivo. También descubres correos electrónicos de seguimiento de otros tres miembros del equipo: May Santner, Chidi Ga y Harriet Hadzic. En estos correos se discuten los detalles del análisis. Quieren un análisis estadístico de los datos de los viajes en función del tipo de dispositivo. `En particular, el liderazgo quiere saber si hay una diferencia estadísticamente significativa en la cantidad media de viajes entre los usuarios de iPhone® y los usuarios de Android™.` Un correo electrónico final de Chidi incluye su tarea específica: llevar a cabo una prueba de hipótesis de dos muestras (prueba t) para analizar la diferencia en la cantidad media de viajes entre los usuarios de iPhone y los usuarios de Android.\n",
    "\n",
    "Se ha estructurado y preparado un cuaderno para ayudarte en este proyecto. Por favor, complete las siguientes preguntas y prepare un resumen ejecutivo."
   ]
  },
  {
   "cell_type": "markdown",
   "metadata": {
    "id": "rgSbVJvomcVa"
   },
   "source": [
    "# **Proyecto fin de curso 4: Exploración de datos y prueba de hipótesis**\n",
    "\n",
    "En esta actividad, explorará los datos proporcionados y realizará una prueba de hipótesis.\n",
    "<br/>\n",
    "\n",
    "**El propósito** de este proyecto es demostrar el conocimiento de cómo realizar una prueba de hipótesis de dos muestras.\n",
    "\n",
    "**El objetivo** es aplicar la estadística descriptiva y la prueba de hipótesis en Python.\n",
    "<br/>\n",
    "\n",
    "*Esta actividad consta de tres partes:*\n",
    "\n",
    "**Parte 1:** Importación y carga de datos\n",
    "* ¿Qué paquetes de datos serán necesarios para la prueba de hipótesis?\n",
    "\n",
    "**Parte 2:** Realización de pruebas de hipótesis\n",
    "* ¿Cómo te ayudó el cálculo de estadísticas descriptivas a analizar tus datos?\n",
    "\n",
    "* ¿Cómo formuló su hipótesis nula e hipótesis alternativa?\n",
    "\n",
    "**Parte 3:** Comunicar la información a las partes interesadas\n",
    "\n",
    "* ¿Qué información empresarial clave se desprende de la prueba de hipótesis?\n",
    "\n",
    "* ¿Qué recomendaciones empresariales propone basándose en los resultados?\n",
    "\n",
    "<br/>\n",
    "\n",
    "\n",
    "Siga las instrucciones y responda a las preguntas que figuran a continuación para completar la actividad. A continuación, elaborará un resumen utilizando las preguntas que figuran en el documento de estrategia PACE.\n",
    "\n",
    "Asegúrese de completar esta actividad antes de continuar. El siguiente punto del curso le proporcionará un ejemplo completado para que lo compare con su propio trabajo.\n"
   ]
  },
  {
   "cell_type": "markdown",
   "metadata": {
    "id": "9GHVSxqehVpv"
   },
   "source": [
    "# **Exploración de datos y comprobación de hipótesis**"
   ]
  },
  {
   "cell_type": "markdown",
   "metadata": {
    "id": "N8qrn_UAzX6j"
   },
   "source": [
    "<img src=\"images/Pace.png\" width=\"100\" height=\"100\" align=left>\n",
    "\n",
    "# **PACE stages**\n"
   ]
  },
  {
   "cell_type": "markdown",
   "metadata": {
    "id": "WQ1oMthKhfzP"
   },
   "source": [
    "A lo largo de estos cuadernos de proyecto, verás referencias al marco de resolución de problemas PACE. Los siguientes componentes del cuaderno están etiquetados con la etapa PACE correspondiente: Planificar, Analizar, Construir y Ejecutar."
   ]
  },
  {
   "cell_type": "markdown",
   "metadata": {
    "id": "Bb1HNu3FzX6k"
   },
   "source": [
    "<img src=\"images/Plan.png\" width=\"100\" height=\"100\" align=left>\n",
    "\n",
    "\n",
    "## **PACE: Plan**\n",
    "\n",
    "Considere las preguntas de su Documento de Estrategia PACE y las que figuran a continuación para elaborar su respuesta:\n",
    "1. ¿Cuál es su pregunta de investigación para este proyecto de datos? Más adelante, tendrá que formular las hipótesis nula y alternativa como primer paso de su prueba de hipótesis. Considere su pregunta de investigación ahora, al comienzo de esta tarea.\n"
   ]
  },
  {
   "cell_type": "markdown",
   "metadata": {
    "id": "F6_h60RuXQIz"
   },
   "source": [
    "**¿Los conductores que abren la aplicación utilizando un iPhone realizan de media el mismo número de trayectos que los conductores que utilizan dispositivos Android?.**"
   ]
  },
  {
   "cell_type": "markdown",
   "metadata": {
    "id": "Kp3uDhhSg_qu"
   },
   "source": [
    "*Completa las siguientes tareas para realizar el análisis estadístico de tus datos:*"
   ]
  },
  {
   "cell_type": "markdown",
   "metadata": {
    "id": "xgQEdIN7f1Jq"
   },
   "source": [
    "### **Tarea 1. Importación y carga de datos**"
   ]
  },
  {
   "cell_type": "markdown",
   "metadata": {
    "id": "ehehvUzFj0-e"
   },
   "source": [
    "Importe los paquetes y bibliotecas necesarios para calcular estadísticas descriptivas y realizar una prueba de hipótesis."
   ]
  },
  {
   "cell_type": "code",
   "execution_count": 1,
   "metadata": {
    "id": "1Q-GL2UrgWWG"
   },
   "outputs": [],
   "source": [
    "# Import any relevant packages or libraries\n",
    "import pandas as pd\n",
    "from scipy import stats"
   ]
  },
  {
   "cell_type": "markdown",
   "metadata": {
    "id": "stMe9uT3kOmF"
   },
   "source": [
    "Importe el conjunto de datos.\n",
    "\n",
    "**Nota:** Como se muestra en esta celda, el conjunto de datos se ha cargado automáticamente. No es necesario descargar el archivo .csv ni proporcionar más código para acceder al conjunto de datos y continuar con este laboratorio. Por favor, continúe con esta actividad completando las siguientes instrucciones."
   ]
  },
  {
   "cell_type": "code",
   "execution_count": 2,
   "metadata": {
    "id": "2qAt6Upaeg6U"
   },
   "outputs": [],
   "source": [
    "# Load dataset into dataframe\n",
    "df = pd.read_csv('waze_dataset.csv')"
   ]
  },
  {
   "cell_type": "markdown",
   "metadata": {
    "id": "c8paWsdKzX6o"
   },
   "source": [
    "<img src=\"images/Analyze.png\" width=\"100\" height=\"100\" align=left>\n",
    "\n",
    "<img src=\"images/Construct.png\" width=\"100\" height=\"100\" align=left>\n",
    "\n",
    "## **PACE: Analizar y Construir**\n",
    "\n",
    "Considere las preguntas de su Documento de Estrategia PACE y las que figuran a continuación para elaborar su respuesta:\n",
    "1. Los profesionales de los datos utilizan estadísticas descriptivas para el análisis exploratorio de datos (AED). ¿Cómo puede ayudarle el cálculo de estadísticas descriptivas a conocer mejor sus datos en esta fase del análisis?"
   ]
  },
  {
   "cell_type": "markdown",
   "metadata": {
    "id": "rX5xJnWUXxsW"
   },
   "source": [
    "las estadísticas descriptivas son útiles porque permiten explorar y comprender rápidamente grandes cantidades de datos. En este caso, el cálculo de estadísticas descriptivas le ayuda a comparar rápidamente la cantidad media de unidades por tipo de dispositivo."
   ]
  },
  {
   "cell_type": "markdown",
   "metadata": {
    "id": "UKhYTdVhf5B2"
   },
   "source": [
    "### **Tarea 2. Exploración de datos**\n",
    "\n",
    "Utilizar estadísticas descriptivas para realizar análisis exploratorios de datos (EDA)."
   ]
  },
  {
   "cell_type": "markdown",
   "metadata": {
    "id": "AzYm91yQrS9s"
   },
   "source": [
    "<details>\n",
    "  <summary><h4><strong>Hint:</strong></h4></summary>\n",
    "Consulte **Estadística Descriptiva Autoexaminada** para este proceso paso a paso.\n",
    "</details>"
   ]
  },
  {
   "cell_type": "markdown",
   "metadata": {
    "id": "JAq7ag0pTNgl"
   },
   "source": [
    "**Nota:** En el conjunto de datos, \"dispositivo\" es una variable categórica con las etiquetas \"iPhone\" y \"Android\".\n",
    "\n",
    "Para realizar este análisis, debe convertir cada etiqueta en un número entero.  El siguiente código asigna un `1` a un usuario de `iPhone` y un `2` a `Android`.  Asigna esta etiqueta a la variable `device_new`.\n",
    "\n",
    "**Nota:** Crear una nueva variable es ideal para no sobrescribir los datos originales."
   ]
  },
  {
   "cell_type": "markdown",
   "metadata": {
    "id": "GaJ4golwD8et"
   },
   "source": [
    "1. Crea un diccionario llamado `map_dictionary` que contenga las etiquetas de clase (`'Android'` y `'iPhone'`) como claves y los valores a los que quieres convertirlas (`2` y `1`) como valores.\n",
    "\n",
    "2. 2. Crea una nueva columna llamada `device_type` que es una copia de la columna `device`.\n",
    "\n",
    "3. Utiliza el método [`map()`](https://pandas.pydata.org/docs/reference/api/pandas.Series.map.html#pandas-series-map) en la serie `device_type`. Pasa `map_dictionary` como argumento. Reasigna el resultado a la serie `device_type`.\n",
    "</br></br>\n",
    "Cuando se pasa un diccionario al método `Series.map()`, éste reemplazará los datos de la serie donde esos datos coincidan con las claves del diccionario. Los valores que se imputan son los valores del diccionario.\n",
    "\n",
    "```\n",
    "Example:\n",
    "df['column']\n",
    "```\n",
    "\n",
    "|column |\n",
    "|  :-:       |\n",
    "| A     |\n",
    "| B     |\n",
    "| A     |\n",
    "| B     |\n",
    "\n",
    "```\n",
    "map_dictionary = {'A': 2, 'B': 1}\n",
    "df['column'] = df['column'].map(map_dictionary)\n",
    "df['column']\n",
    "```\n",
    "\n",
    "|column |\n",
    "|  :-: |\n",
    "| 2    |\n",
    "| 1    |\n",
    "| 2    |\n",
    "| 1    |\n"
   ]
  },
  {
   "cell_type": "code",
   "execution_count": 6,
   "metadata": {
    "id": "piHSZbnjEXw-"
   },
   "outputs": [
    {
     "data": {
      "text/plain": [
       "0    2\n",
       "1    1\n",
       "2    2\n",
       "3    1\n",
       "4    2\n",
       "Name: tipo_dispositivo, dtype: int64"
      ]
     },
     "execution_count": 6,
     "metadata": {},
     "output_type": "execute_result"
    }
   ],
   "source": [
    "# 1. Creaa `map_dictionary`\n",
    "mapa_diccionario = {\"Android\": 2, \"iPhone\": 1}\n",
    "\n",
    "# 2. Crea una nueva columna`device_type` \n",
    "df[\"tipo_dispositivo\"] = df['device']\n",
    "\n",
    "# 3. Asignar la nueva columna al diccionario\n",
    "df[\"tipo_dispositivo\"] = df[\"tipo_dispositivo\"].map(mapa_diccionario)\n",
    "\n",
    "df[\"tipo_dispositivo\"].head()"
   ]
  },
  {
   "cell_type": "markdown",
   "metadata": {
    "id": "-fFiNg4hdGBK"
   },
   "source": [
    "Usted está interesado en la relación entre el tipo de dispositivo y el número de unidades. Un método consiste en observar el número medio de unidades para cada tipo de dispositivo. Calcule estos promedios."
   ]
  },
  {
   "cell_type": "code",
   "execution_count": 7,
   "metadata": {
    "id": "2LGEWrdVXgI2"
   },
   "outputs": [
    {
     "data": {
      "text/plain": [
       "tipo_dispositivo\n",
       "1    67.859078\n",
       "2    66.231838\n",
       "Name: drives, dtype: float64"
      ]
     },
     "execution_count": 7,
     "metadata": {},
     "output_type": "execute_result"
    }
   ],
   "source": [
    "df.groupby(\"tipo_dispositivo\")['drives'].mean()"
   ]
  },
  {
   "cell_type": "markdown",
   "metadata": {
    "id": "Z_u-zWvGdfII"
   },
   "source": [
    "Según los promedios mostrados, parece que los conductores que utilizan un dispositivo iPhone para interactuar con la aplicación tienen un mayor número de trayectos de media. Sin embargo, esta diferencia podría deberse a un muestreo aleatorio, en lugar de ser una diferencia real en el número de trayectos. Para evaluar si la diferencia es estadísticamente significativa, puede realizar una prueba de hipótesis."
   ]
  },
  {
   "cell_type": "markdown",
   "metadata": {
    "id": "QpFRQDaNzX6p"
   },
   "source": [
    "\n",
    "### **Tarea 3. Prueba de hipótesis**\n",
    "\n",
    "Su objetivo es realizar una prueba t de dos muestras. Recuerda los pasos para realizar una prueba de hipótesis:\n",
    "\n",
    "\n",
    "1.   Enunciar la hipótesis nula y la hipótesis alternativa\n",
    "2.   Elija un nivel de significación\n",
    "3.   Hallar el valor p\n",
    "4.   Rechazar o no rechazar la hipótesis nula\n",
    "\n",
    "**Nota:** Se trata de una prueba t para dos muestras independientes. Es la prueba adecuada, ya que los dos grupos son independientes (usuarios de Android frente a usuarios de iPhone)."
   ]
  },
  {
   "cell_type": "markdown",
   "metadata": {
    "id": "phXxr74vVPrs"
   },
   "source": [
    "Recuerde la diferencia entre la hipótesis nula ($H_0$) y la hipótesis alternativa ($H_A$).\n",
    "\n",
    "**Pregunta:** ¿Cuáles son tus hipótesis para este proyecto de datos?"
   ]
  },
  {
   "cell_type": "markdown",
   "metadata": {
    "id": "SkDeGggZYM84"
   },
   "source": [
    "\n",
    "$H_0$: No hay diferencia en el número medio de trayectos entre los conductores que utilizan dispositivos iPhone y los conductores que utilizan Androids.\n",
    "\n",
    "$H_A$: Existe una diferencia en el número medio de trayectos entre los conductores que utilizan dispositivos iPhone y los conductores que utilizan Androids."
   ]
  },
  {
   "cell_type": "markdown",
   "metadata": {
    "id": "IVHpnfvNeTUA"
   },
   "source": [
    "A continuación, elija el 5% como nivel de significación y proceda a realizar una prueba t de dos muestras.\n",
    "\n",
    "Puede utilizar la función `stats.ttest_ind()` para realizar la prueba.\n",
    "\n",
    "\n",
    "**Nota técnica**: El argumento `equal_var` por defecto en `stats.ttest_ind()` es `True`, que asume que las varianzas de la población son iguales. Esta suposición de varianza igual puede no cumplirse en la práctica (es decir, no hay ninguna razón de peso para suponer que los dos grupos tienen la misma varianza); puede relajar esta suposición estableciendo `equal_var` en `False`, y `stats.ttest_ind()` realizará la prueba de varianzas desiguales $t$ (conocida como prueba `t` de Welch). Consulte la [scipy t-test documentation](https://docs.scipy.org/doc/scipy/reference/generated/scipy.stats.ttest_ind.html) para obtener más información.\n",
    "\n",
    "\n",
    "1. Aísle la columna `drives` para los usuarios de iPhone.\n",
    "2. Aísle la columna `drives` para los usuarios de Android.\n",
    "3. Realice la prueba t"
   ]
  },
  {
   "cell_type": "code",
   "execution_count": 10,
   "metadata": {
    "id": "rdlsXg7Dhbrd"
   },
   "outputs": [
    {
     "data": {
      "text/plain": [
       "Ttest_indResult(statistic=1.4635232068852353, pvalue=0.1433519726802059)"
      ]
     },
     "execution_count": 10,
     "metadata": {},
     "output_type": "execute_result"
    }
   ],
   "source": [
    "# 1. Aislar la columna `drives` para los usuarios de iPhone.\n",
    "iPhone = df[df[\"tipo_dispositivo\"] == 1]['drives']\n",
    "\n",
    "# 2. Aislar la columna `drives` para los usuarios de Android.\n",
    "Android = df[df[\"tipo_dispositivo\"] == 2]['drives']\n",
    "\n",
    "# 3. Realizar la prueba t\n",
    "stats.ttest_ind(a=iPhone, b=Android, equal_var=False)"
   ]
  },
  {
   "cell_type": "markdown",
   "metadata": {
    "id": "64Wq_VSaVsNm"
   },
   "source": [
    "**Pregunta:** Según el valor p que has obtenido, ¿rechazas o no rechazas la hipótesis nula?"
   ]
  },
  {
   "cell_type": "markdown",
   "metadata": {
    "id": "SGLHv2FY1P2-"
   },
   "source": [
    "> Dado que el valor p es mayor que el nivel de significación elegido (5%), no se rechaza la hipótesis nula. Usted concluye que **no** existe una diferencia estadísticamente significativa en el número medio de trayectos entre los conductores que utilizan iPhones y los conductores que utilizan Androids.*"
   ]
  },
  {
   "cell_type": "markdown",
   "metadata": {
    "id": "Ab4e-W3mzX6r"
   },
   "source": [
    "<img src=\"images/Execute.png\" width=\"100\" height=\"100\" align=left>\n",
    "\n",
    "## **PACE: Execute**\n",
    "\n",
    "Considere las preguntas de su Documento de Estrategia PACE para reflexionar sobre la etapa Ejecutar."
   ]
  },
  {
   "cell_type": "markdown",
   "metadata": {
    "id": "h1PRfiD3hcwE"
   },
   "source": [
    "### **Tarea 4. Comunicar las ideas a las partes interesadas**"
   ]
  },
  {
   "cell_type": "markdown",
   "metadata": {
    "id": "-CgNingVY4Bw"
   },
   "source": [
    "Ahora que ha completado su prueba de hipótesis, el siguiente paso es compartir sus hallazgos con el equipo de liderazgo de Waze. Considera la siguiente pregunta mientras te preparas para escribir tu resumen ejecutivo:\n",
    "\n",
    "* ¿Qué visión(es) de negocio puedes extraer de los resultados de tu prueba de hipótesis?\n",
    "\n",
    "> La idea clave del negocio es que los conductores que utilizan dispositivos iPhone en promedio tienen un número similar de viajes que los que utilizan Android.\n",
    "\n",
    "> Un posible paso siguiente es explorar qué otros factores influyen en la variación del número de desplazamientos y realizar pruebas de hipótesis adicionales para conocer mejor el comportamiento de los usuarios. Además, los cambios temporales en el marketing o la interfaz de usuario de la aplicación Waze pueden proporcionar más datos para investigar la pérdida de clientes.\n"
   ]
  },
  {
   "cell_type": "markdown",
   "metadata": {},
   "source": [
    "**¡Felicidades!** Has completado este laboratorio. Sin embargo, es posible que no veas una marca de verificación verde junto a este elemento en la plataforma de Coursera. Por favor, continúa tu progreso independientemente de la marca de verificación. Simplemente haga clic en el icono \"guardar\" en la parte superior de este cuaderno para asegurarse de que su trabajo ha sido registrado."
   ]
  }
 ],
 "metadata": {
  "colab": {
   "provenance": [
    {
     "file_id": "1VMShPM3amGvcOZx0J5yHz1kb04rzCFvN",
     "timestamp": 1671052168408
    },
    {
     "file_id": "1su07KaK4RI6MI85tMf2H19qop9LcqqDy",
     "timestamp": 1669648371757
    },
    {
     "file_id": "1f5FzGbEQi1DvhHY8u-K32sklfpgir_pK",
     "timestamp": 1669589913543
    }
   ]
  },
  "kernelspec": {
   "display_name": "Python 3",
   "language": "python",
   "name": "python3"
  },
  "language_info": {
   "codemirror_mode": {
    "name": "ipython",
    "version": 3
   },
   "file_extension": ".py",
   "mimetype": "text/x-python",
   "name": "python",
   "nbconvert_exporter": "python",
   "pygments_lexer": "ipython3",
   "version": "3.7.6"
  }
 },
 "nbformat": 4,
 "nbformat_minor": 1
}
