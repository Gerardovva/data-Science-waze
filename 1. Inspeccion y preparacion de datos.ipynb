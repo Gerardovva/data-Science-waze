{
 "cells": [
  {
   "cell_type": "markdown",
   "metadata": {
    "id": "DtNBZFHO3M7n"
   },
   "source": [
    "**Proyecto Waze**\n",
    "**Curso 2 - Introducción a Python**"
   ]
  },
  {
   "cell_type": "markdown",
   "metadata": {
    "id": "zJCatj3xzrQZ"
   },
   "source": [
    "¡Bienvenido al Proyecto Waze!\n",
    "\n",
    "Tu equipo de análisis de datos de Waze se encuentra todavía en las primeras fases de su proyecto de rotación de usuarios. Previamente, tu supervisora, May Santner, te pidió que completaras una propuesta de proyecto. Has recibido la noticia de que tu propuesta de proyecto ha sido aprobada y de que tu equipo ha obtenido acceso a los datos de los usuarios de Waze. Para obtener información clara, los datos de usuario deben ser inspeccionados y preparados para el próximo proceso de análisis exploratorio de datos (EDA).\n",
    "\n",
    "Se ha preparado un cuaderno Python para guiarte en este proyecto. Responde a las preguntas y crea un resumen ejecutivo para el equipo de datos de Waze."
   ]
  },
  {
   "cell_type": "markdown",
   "metadata": {
    "id": "rgSbVJvomcVa"
   },
   "source": [
    "# **Proyecto fin de curso 2: Inspeccionar y analizar datos**\n",
    "\n",
    "En esta actividad, examinará los datos proporcionados y los preparará para su análisis. Esta actividad le ayudará a asegurarse de que la información es\n",
    "\n",
    "1.   Lista para responder a preguntas y aportar información\n",
    "\n",
    "2.   Preparada para las visualizaciones\n",
    "\n",
    "3.   Preparado para futuras pruebas de hipótesis y métodos estadísticos\n",
    "<br/>\n",
    "\n",
    "**El propósito** de este proyecto es investigar y comprender los datos proporcionados.\n",
    "\n",
    "**El objetivo** es utilizar un marco de datos construido en Python, realizar una inspección superficial del conjunto de datos proporcionado e informar a los miembros del equipo de tus conclusiones.\n",
    "<br/>\n",
    "\n",
    "*Esta actividad consta de tres partes:*\n",
    "\n",
    "**Parte 1:** Comprender la situación\n",
    "* ¿Cómo puedes prepararte mejor para comprender y organizar la información proporcionada?\n",
    "\n",
    "**Parte 2:** Entender los datos\n",
    "\n",
    "* Crear un marco de datos pandas para el aprendizaje de datos, futuros análisis exploratorios de datos (AED) y actividades estadísticas\n",
    "\n",
    "* Recopilar información resumida sobre los datos para informar los próximos pasos\n",
    "\n",
    "**Parte 3:** Comprender las variables\n",
    "\n",
    "* Utilizar la información obtenida del examen de los datos resumidos para orientar una investigación más profunda de las variables\n",
    "\n",
    "\n",
    "<br/>\n",
    "\n",
    "Siga las instrucciones y responda a las siguientes preguntas para completar la actividad. A continuación, elaborará un resumen utilizando las preguntas que figuran en el Documento de Estrategia PACE.\n",
    "\n",
    "Asegúrese de completar esta actividad antes de continuar. El siguiente punto del curso le proporcionará un ejemplo completado para que lo compare con su propio trabajo.\n"
   ]
  },
  {
   "cell_type": "markdown",
   "metadata": {
    "id": "HjFGokxv2pc5"
   },
   "source": [
    "# **Identificar tipos de datos y compilar información resumida**\n"
   ]
  },
  {
   "cell_type": "markdown",
   "metadata": {
    "id": "MRUYfzCb4vop"
   },
   "source": [
    "<img src=\"images/Pace.png\" width=\"100\" height=\"100\" align=left>\n",
    "\n",
    "# **PACE stages**"
   ]
  },
  {
   "cell_type": "markdown",
   "metadata": {
    "id": "b4B47DQPcSQu"
   },
   "source": [
    "A lo largo de estos cuadernos de proyecto, verás referencias al marco de resolución de problemas, PACE. Los siguientes componentes del cuaderno están etiquetados con las respectivas etapas PACE: Planificar, Analizar, Construir y Ejecutar."
   ]
  },
  {
   "cell_type": "markdown",
   "metadata": {
    "id": "zRHb2QQWj99m"
   },
   "source": [
    "<img src=\"images/Plan.png\" width=\"100\" height=\"100\" align=left>\n",
    "\n",
    "\n",
    "## **PACE: Plan**\n",
    "\n",
    "Considere las preguntas de su Documento de Estrategia PACE y las que figuran a continuación para elaborar su respuesta:"
   ]
  },
  {
   "cell_type": "markdown",
   "metadata": {
    "id": "pWEfG5zJV5oG"
   },
   "source": [
    "### **Tarea 1. Comprender la situación**\n",
    "\n",
    "*¿Cuál es la mejor manera de prepararse para comprender y organizar los datos proporcionados sobre los conductores?\n",
    "\n",
    "\n",
    "Comience explorando su conjunto de datos y considere la posibilidad de revisar el Diccionario de Datos.*"
   ]
  },
  {
   "cell_type": "markdown",
   "metadata": {
    "id": "irvqnKSe6Z80"
   },
   "source": [
    "Realizando unas consultas a la base de datos para ver y existen valores faltantes"
   ]
  },
  {
   "cell_type": "markdown",
   "metadata": {
    "id": "1E9Y5aC0IAA-"
   },
   "source": [
    "<img src=\"images/Analyze.png\" width=\"100\" height=\"100\" align=left>\n",
    "\n",
    "## **PACE: Analyze**\n",
    "\n",
    "Considere las preguntas de su Documento de Estrategia PACE para reflexionar sobre la etapa Analizar."
   ]
  },
  {
   "cell_type": "markdown",
   "metadata": {
    "id": "D4WK_AxP_S__"
   },
   "source": [
    "### **Tarea 2a. Importación y carga de datos**\n",
    "\n",
    "Comienza importando los paquetes que necesitarás para cargar y explorar el conjunto de datos. Asegúrate de usar las siguientes sentencias de importación:\n",
    "\n",
    "* `import pandas as pd`\n",
    "\n",
    "* `Importar numpy como np`\n"
   ]
  },
  {
   "cell_type": "code",
   "execution_count": 1,
   "metadata": {
    "id": "OZSXM4q5zrQh"
   },
   "outputs": [],
   "source": [
    "# Importar paquetes para la manipulación de datos\n",
    "import pandas as pd \n",
    "import numpy as np"
   ]
  },
  {
   "cell_type": "markdown",
   "metadata": {
    "id": "2-hT-EQA67v3"
   },
   "source": [
    "A continuación, cargue el conjunto de datos en un marco de datos. La creación de un marco de datos le ayudará a realizar la manipulación de datos, el análisis exploratorio de datos (AED) y las actividades estadísticas.\n",
    "\n",
    "**Nota:** Como se muestra en esta celda, el conjunto de datos se ha cargado automáticamente. No necesita descargar el archivo .csv ni proporcionar más código para acceder al conjunto de datos y continuar con este laboratorio. Por favor, continúe con esta actividad completando las siguientes instrucciones."
   ]
  },
  {
   "cell_type": "code",
   "execution_count": 2,
   "metadata": {},
   "outputs": [],
   "source": [
    "# Cargar el conjunto de datos en el marco de datos\n",
    "df = pd.read_csv('waze_dataset.csv')"
   ]
  },
  {
   "cell_type": "markdown",
   "metadata": {
    "id": "gYx1emvno7U_"
   },
   "source": [
    "### **Tarea 2b. Información resumida**\n",
    "\n",
    "Ver e inspeccionar la información resumida sobre el marco de datos **codificando lo siguiente:**\n",
    "\n",
    "1. df.head(10)\n",
    "2. df.info()\n",
    "\n",
    "*Considere las siguientes cuestiones:*\n",
    "\n",
    "1. Al revisar la salida de `df.head()`, ¿hay alguna variable que tenga valores perdidos?\n",
    "\n",
    "2. Al revisar la salida de `df.info()`, ¿cuáles son los tipos de datos? ¿Cuántas filas y columnas tiene?\n",
    "\n",
    "3. ¿Tiene el conjunto de datos valores perdidos?"
   ]
  },
  {
   "cell_type": "code",
   "execution_count": 3,
   "metadata": {
    "id": "t7Nck2hh4R6J"
   },
   "outputs": [
    {
     "data": {
      "text/html": [
       "<div>\n",
       "<style scoped>\n",
       "    .dataframe tbody tr th:only-of-type {\n",
       "        vertical-align: middle;\n",
       "    }\n",
       "\n",
       "    .dataframe tbody tr th {\n",
       "        vertical-align: top;\n",
       "    }\n",
       "\n",
       "    .dataframe thead th {\n",
       "        text-align: right;\n",
       "    }\n",
       "</style>\n",
       "<table border=\"1\" class=\"dataframe\">\n",
       "  <thead>\n",
       "    <tr style=\"text-align: right;\">\n",
       "      <th></th>\n",
       "      <th>ID</th>\n",
       "      <th>label</th>\n",
       "      <th>sessions</th>\n",
       "      <th>drives</th>\n",
       "      <th>total_sessions</th>\n",
       "      <th>n_days_after_onboarding</th>\n",
       "      <th>total_navigations_fav1</th>\n",
       "      <th>total_navigations_fav2</th>\n",
       "      <th>driven_km_drives</th>\n",
       "      <th>duration_minutes_drives</th>\n",
       "      <th>activity_days</th>\n",
       "      <th>driving_days</th>\n",
       "      <th>device</th>\n",
       "    </tr>\n",
       "  </thead>\n",
       "  <tbody>\n",
       "    <tr>\n",
       "      <th>0</th>\n",
       "      <td>0</td>\n",
       "      <td>retained</td>\n",
       "      <td>283</td>\n",
       "      <td>226</td>\n",
       "      <td>296.748273</td>\n",
       "      <td>2276</td>\n",
       "      <td>208</td>\n",
       "      <td>0</td>\n",
       "      <td>2628.845068</td>\n",
       "      <td>1985.775061</td>\n",
       "      <td>28</td>\n",
       "      <td>19</td>\n",
       "      <td>Android</td>\n",
       "    </tr>\n",
       "    <tr>\n",
       "      <th>1</th>\n",
       "      <td>1</td>\n",
       "      <td>retained</td>\n",
       "      <td>133</td>\n",
       "      <td>107</td>\n",
       "      <td>326.896596</td>\n",
       "      <td>1225</td>\n",
       "      <td>19</td>\n",
       "      <td>64</td>\n",
       "      <td>13715.920550</td>\n",
       "      <td>3160.472914</td>\n",
       "      <td>13</td>\n",
       "      <td>11</td>\n",
       "      <td>iPhone</td>\n",
       "    </tr>\n",
       "    <tr>\n",
       "      <th>2</th>\n",
       "      <td>2</td>\n",
       "      <td>retained</td>\n",
       "      <td>114</td>\n",
       "      <td>95</td>\n",
       "      <td>135.522926</td>\n",
       "      <td>2651</td>\n",
       "      <td>0</td>\n",
       "      <td>0</td>\n",
       "      <td>3059.148818</td>\n",
       "      <td>1610.735904</td>\n",
       "      <td>14</td>\n",
       "      <td>8</td>\n",
       "      <td>Android</td>\n",
       "    </tr>\n",
       "    <tr>\n",
       "      <th>3</th>\n",
       "      <td>3</td>\n",
       "      <td>retained</td>\n",
       "      <td>49</td>\n",
       "      <td>40</td>\n",
       "      <td>67.589221</td>\n",
       "      <td>15</td>\n",
       "      <td>322</td>\n",
       "      <td>7</td>\n",
       "      <td>913.591123</td>\n",
       "      <td>587.196542</td>\n",
       "      <td>7</td>\n",
       "      <td>3</td>\n",
       "      <td>iPhone</td>\n",
       "    </tr>\n",
       "    <tr>\n",
       "      <th>4</th>\n",
       "      <td>4</td>\n",
       "      <td>retained</td>\n",
       "      <td>84</td>\n",
       "      <td>68</td>\n",
       "      <td>168.247020</td>\n",
       "      <td>1562</td>\n",
       "      <td>166</td>\n",
       "      <td>5</td>\n",
       "      <td>3950.202008</td>\n",
       "      <td>1219.555924</td>\n",
       "      <td>27</td>\n",
       "      <td>18</td>\n",
       "      <td>Android</td>\n",
       "    </tr>\n",
       "    <tr>\n",
       "      <th>5</th>\n",
       "      <td>5</td>\n",
       "      <td>retained</td>\n",
       "      <td>113</td>\n",
       "      <td>103</td>\n",
       "      <td>279.544437</td>\n",
       "      <td>2637</td>\n",
       "      <td>0</td>\n",
       "      <td>0</td>\n",
       "      <td>901.238699</td>\n",
       "      <td>439.101397</td>\n",
       "      <td>15</td>\n",
       "      <td>11</td>\n",
       "      <td>iPhone</td>\n",
       "    </tr>\n",
       "    <tr>\n",
       "      <th>6</th>\n",
       "      <td>6</td>\n",
       "      <td>retained</td>\n",
       "      <td>3</td>\n",
       "      <td>2</td>\n",
       "      <td>236.725314</td>\n",
       "      <td>360</td>\n",
       "      <td>185</td>\n",
       "      <td>18</td>\n",
       "      <td>5249.172828</td>\n",
       "      <td>726.577205</td>\n",
       "      <td>28</td>\n",
       "      <td>23</td>\n",
       "      <td>iPhone</td>\n",
       "    </tr>\n",
       "    <tr>\n",
       "      <th>7</th>\n",
       "      <td>7</td>\n",
       "      <td>retained</td>\n",
       "      <td>39</td>\n",
       "      <td>35</td>\n",
       "      <td>176.072845</td>\n",
       "      <td>2999</td>\n",
       "      <td>0</td>\n",
       "      <td>0</td>\n",
       "      <td>7892.052468</td>\n",
       "      <td>2466.981741</td>\n",
       "      <td>22</td>\n",
       "      <td>20</td>\n",
       "      <td>iPhone</td>\n",
       "    </tr>\n",
       "    <tr>\n",
       "      <th>8</th>\n",
       "      <td>8</td>\n",
       "      <td>retained</td>\n",
       "      <td>57</td>\n",
       "      <td>46</td>\n",
       "      <td>183.532018</td>\n",
       "      <td>424</td>\n",
       "      <td>0</td>\n",
       "      <td>26</td>\n",
       "      <td>2651.709764</td>\n",
       "      <td>1594.342984</td>\n",
       "      <td>25</td>\n",
       "      <td>20</td>\n",
       "      <td>Android</td>\n",
       "    </tr>\n",
       "    <tr>\n",
       "      <th>9</th>\n",
       "      <td>9</td>\n",
       "      <td>churned</td>\n",
       "      <td>84</td>\n",
       "      <td>68</td>\n",
       "      <td>244.802115</td>\n",
       "      <td>2997</td>\n",
       "      <td>72</td>\n",
       "      <td>0</td>\n",
       "      <td>6043.460295</td>\n",
       "      <td>2341.838528</td>\n",
       "      <td>7</td>\n",
       "      <td>3</td>\n",
       "      <td>iPhone</td>\n",
       "    </tr>\n",
       "  </tbody>\n",
       "</table>\n",
       "</div>"
      ],
      "text/plain": [
       "   ID     label  sessions  drives  total_sessions  n_days_after_onboarding  \\\n",
       "0   0  retained       283     226      296.748273                     2276   \n",
       "1   1  retained       133     107      326.896596                     1225   \n",
       "2   2  retained       114      95      135.522926                     2651   \n",
       "3   3  retained        49      40       67.589221                       15   \n",
       "4   4  retained        84      68      168.247020                     1562   \n",
       "5   5  retained       113     103      279.544437                     2637   \n",
       "6   6  retained         3       2      236.725314                      360   \n",
       "7   7  retained        39      35      176.072845                     2999   \n",
       "8   8  retained        57      46      183.532018                      424   \n",
       "9   9   churned        84      68      244.802115                     2997   \n",
       "\n",
       "   total_navigations_fav1  total_navigations_fav2  driven_km_drives  \\\n",
       "0                     208                       0       2628.845068   \n",
       "1                      19                      64      13715.920550   \n",
       "2                       0                       0       3059.148818   \n",
       "3                     322                       7        913.591123   \n",
       "4                     166                       5       3950.202008   \n",
       "5                       0                       0        901.238699   \n",
       "6                     185                      18       5249.172828   \n",
       "7                       0                       0       7892.052468   \n",
       "8                       0                      26       2651.709764   \n",
       "9                      72                       0       6043.460295   \n",
       "\n",
       "   duration_minutes_drives  activity_days  driving_days   device  \n",
       "0              1985.775061             28            19  Android  \n",
       "1              3160.472914             13            11   iPhone  \n",
       "2              1610.735904             14             8  Android  \n",
       "3               587.196542              7             3   iPhone  \n",
       "4              1219.555924             27            18  Android  \n",
       "5               439.101397             15            11   iPhone  \n",
       "6               726.577205             28            23   iPhone  \n",
       "7              2466.981741             22            20   iPhone  \n",
       "8              1594.342984             25            20  Android  \n",
       "9              2341.838528              7             3   iPhone  "
      ]
     },
     "execution_count": 3,
     "metadata": {},
     "output_type": "execute_result"
    }
   ],
   "source": [
    "df.head(10)"
   ]
  },
  {
   "cell_type": "code",
   "execution_count": 4,
   "metadata": {
    "id": "3NctoTSAvGGD"
   },
   "outputs": [
    {
     "name": "stdout",
     "output_type": "stream",
     "text": [
      "<class 'pandas.core.frame.DataFrame'>\n",
      "RangeIndex: 14999 entries, 0 to 14998\n",
      "Data columns (total 13 columns):\n",
      " #   Column                   Non-Null Count  Dtype  \n",
      "---  ------                   --------------  -----  \n",
      " 0   ID                       14999 non-null  int64  \n",
      " 1   label                    14299 non-null  object \n",
      " 2   sessions                 14999 non-null  int64  \n",
      " 3   drives                   14999 non-null  int64  \n",
      " 4   total_sessions           14999 non-null  float64\n",
      " 5   n_days_after_onboarding  14999 non-null  int64  \n",
      " 6   total_navigations_fav1   14999 non-null  int64  \n",
      " 7   total_navigations_fav2   14999 non-null  int64  \n",
      " 8   driven_km_drives         14999 non-null  float64\n",
      " 9   duration_minutes_drives  14999 non-null  float64\n",
      " 10  activity_days            14999 non-null  int64  \n",
      " 11  driving_days             14999 non-null  int64  \n",
      " 12  device                   14999 non-null  object \n",
      "dtypes: float64(3), int64(8), object(2)\n",
      "memory usage: 1.5+ MB\n"
     ]
    }
   ],
   "source": [
    "df.info()"
   ]
  },
  {
   "cell_type": "code",
   "execution_count": 54,
   "metadata": {},
   "outputs": [
    {
     "data": {
      "text/plain": [
       "ID                              0\n",
       "label                         700\n",
       "sessions                        0\n",
       "drives                          0\n",
       "total_sessions                  0\n",
       "n_days_after_onboarding         0\n",
       "total_navigations_fav1          0\n",
       "total_navigations_fav2          0\n",
       "driven_km_drives                0\n",
       "duration_minutes_drives         0\n",
       "activity_days                   0\n",
       "driving_days                    0\n",
       "device                          0\n",
       "km_por_viaje                    0\n",
       "km_por_día_de_conduccion        0\n",
       "unidades_por_día_conducido      7\n",
       "dtype: int64"
      ]
     },
     "execution_count": 54,
     "metadata": {},
     "output_type": "execute_result"
    }
   ],
   "source": [
    "df.isnull().sum()"
   ]
  },
  {
   "cell_type": "markdown",
   "metadata": {
    "id": "JscqNfr6ZVsE"
   },
   "source": [
    "**Pregunta 1 :** si, algunonos valores en la colunas otal_navigations_fav1\ty total_navigations_fav2 tienen valores de 0\n",
    "\n",
    "**Pregunta 2 :** los tipos de datos son objet, int64 y float64, el dataset cuenta con 13 columnas y 14999 filas \n",
    "\n",
    "**Pregunta 3 :** si , el conjunto de datos contiene valores nulos"
   ]
  },
  {
   "cell_type": "markdown",
   "metadata": {
    "id": "BMNnIoc51_1N"
   },
   "source": [
    "### **Tarea 2c. Valores nulos y estadísticas de resumen**\n",
    "\n",
    "Compare las estadísticas de resumen de las 700 filas a las que les faltan etiquetas con las estadísticas de resumen de las filas a las que no les falta ningún valor.\n",
    "\n",
    "**Pregunta:** ¿Existe alguna diferencia perceptible entre las dos poblaciones?\n"
   ]
  },
  {
   "cell_type": "code",
   "execution_count": 5,
   "metadata": {
    "id": "bAQeHW-d2S1-"
   },
   "outputs": [
    {
     "data": {
      "text/html": [
       "<div>\n",
       "<style scoped>\n",
       "    .dataframe tbody tr th:only-of-type {\n",
       "        vertical-align: middle;\n",
       "    }\n",
       "\n",
       "    .dataframe tbody tr th {\n",
       "        vertical-align: top;\n",
       "    }\n",
       "\n",
       "    .dataframe thead th {\n",
       "        text-align: right;\n",
       "    }\n",
       "</style>\n",
       "<table border=\"1\" class=\"dataframe\">\n",
       "  <thead>\n",
       "    <tr style=\"text-align: right;\">\n",
       "      <th></th>\n",
       "      <th>ID</th>\n",
       "      <th>sessions</th>\n",
       "      <th>drives</th>\n",
       "      <th>total_sessions</th>\n",
       "      <th>n_days_after_onboarding</th>\n",
       "      <th>total_navigations_fav1</th>\n",
       "      <th>total_navigations_fav2</th>\n",
       "      <th>driven_km_drives</th>\n",
       "      <th>duration_minutes_drives</th>\n",
       "      <th>activity_days</th>\n",
       "      <th>driving_days</th>\n",
       "    </tr>\n",
       "  </thead>\n",
       "  <tbody>\n",
       "    <tr>\n",
       "      <th>count</th>\n",
       "      <td>700.000000</td>\n",
       "      <td>700.000000</td>\n",
       "      <td>700.000000</td>\n",
       "      <td>700.000000</td>\n",
       "      <td>700.000000</td>\n",
       "      <td>700.000000</td>\n",
       "      <td>700.000000</td>\n",
       "      <td>700.000000</td>\n",
       "      <td>700.000000</td>\n",
       "      <td>700.000000</td>\n",
       "      <td>700.000000</td>\n",
       "    </tr>\n",
       "    <tr>\n",
       "      <th>mean</th>\n",
       "      <td>7405.584286</td>\n",
       "      <td>80.837143</td>\n",
       "      <td>67.798571</td>\n",
       "      <td>198.483348</td>\n",
       "      <td>1709.295714</td>\n",
       "      <td>118.717143</td>\n",
       "      <td>30.371429</td>\n",
       "      <td>3935.967029</td>\n",
       "      <td>1795.123358</td>\n",
       "      <td>15.382857</td>\n",
       "      <td>12.125714</td>\n",
       "    </tr>\n",
       "    <tr>\n",
       "      <th>std</th>\n",
       "      <td>4306.900234</td>\n",
       "      <td>79.987440</td>\n",
       "      <td>65.271926</td>\n",
       "      <td>140.561715</td>\n",
       "      <td>1005.306562</td>\n",
       "      <td>156.308140</td>\n",
       "      <td>46.306984</td>\n",
       "      <td>2443.107121</td>\n",
       "      <td>1419.242246</td>\n",
       "      <td>8.772714</td>\n",
       "      <td>7.626373</td>\n",
       "    </tr>\n",
       "    <tr>\n",
       "      <th>min</th>\n",
       "      <td>77.000000</td>\n",
       "      <td>0.000000</td>\n",
       "      <td>0.000000</td>\n",
       "      <td>5.582648</td>\n",
       "      <td>16.000000</td>\n",
       "      <td>0.000000</td>\n",
       "      <td>0.000000</td>\n",
       "      <td>290.119811</td>\n",
       "      <td>66.588493</td>\n",
       "      <td>0.000000</td>\n",
       "      <td>0.000000</td>\n",
       "    </tr>\n",
       "    <tr>\n",
       "      <th>25%</th>\n",
       "      <td>3744.500000</td>\n",
       "      <td>23.000000</td>\n",
       "      <td>20.000000</td>\n",
       "      <td>94.056340</td>\n",
       "      <td>869.000000</td>\n",
       "      <td>4.000000</td>\n",
       "      <td>0.000000</td>\n",
       "      <td>2119.344818</td>\n",
       "      <td>779.009271</td>\n",
       "      <td>8.000000</td>\n",
       "      <td>6.000000</td>\n",
       "    </tr>\n",
       "    <tr>\n",
       "      <th>50%</th>\n",
       "      <td>7443.000000</td>\n",
       "      <td>56.000000</td>\n",
       "      <td>47.500000</td>\n",
       "      <td>177.255925</td>\n",
       "      <td>1650.500000</td>\n",
       "      <td>62.500000</td>\n",
       "      <td>10.000000</td>\n",
       "      <td>3421.156721</td>\n",
       "      <td>1414.966279</td>\n",
       "      <td>15.000000</td>\n",
       "      <td>12.000000</td>\n",
       "    </tr>\n",
       "    <tr>\n",
       "      <th>75%</th>\n",
       "      <td>11007.000000</td>\n",
       "      <td>112.250000</td>\n",
       "      <td>94.000000</td>\n",
       "      <td>266.058022</td>\n",
       "      <td>2508.750000</td>\n",
       "      <td>169.250000</td>\n",
       "      <td>43.000000</td>\n",
       "      <td>5166.097373</td>\n",
       "      <td>2443.955404</td>\n",
       "      <td>23.000000</td>\n",
       "      <td>18.000000</td>\n",
       "    </tr>\n",
       "    <tr>\n",
       "      <th>max</th>\n",
       "      <td>14993.000000</td>\n",
       "      <td>556.000000</td>\n",
       "      <td>445.000000</td>\n",
       "      <td>1076.879741</td>\n",
       "      <td>3498.000000</td>\n",
       "      <td>1096.000000</td>\n",
       "      <td>352.000000</td>\n",
       "      <td>15135.391280</td>\n",
       "      <td>9746.253023</td>\n",
       "      <td>31.000000</td>\n",
       "      <td>30.000000</td>\n",
       "    </tr>\n",
       "  </tbody>\n",
       "</table>\n",
       "</div>"
      ],
      "text/plain": [
       "                 ID    sessions      drives  total_sessions  \\\n",
       "count    700.000000  700.000000  700.000000      700.000000   \n",
       "mean    7405.584286   80.837143   67.798571      198.483348   \n",
       "std     4306.900234   79.987440   65.271926      140.561715   \n",
       "min       77.000000    0.000000    0.000000        5.582648   \n",
       "25%     3744.500000   23.000000   20.000000       94.056340   \n",
       "50%     7443.000000   56.000000   47.500000      177.255925   \n",
       "75%    11007.000000  112.250000   94.000000      266.058022   \n",
       "max    14993.000000  556.000000  445.000000     1076.879741   \n",
       "\n",
       "       n_days_after_onboarding  total_navigations_fav1  \\\n",
       "count               700.000000              700.000000   \n",
       "mean               1709.295714              118.717143   \n",
       "std                1005.306562              156.308140   \n",
       "min                  16.000000                0.000000   \n",
       "25%                 869.000000                4.000000   \n",
       "50%                1650.500000               62.500000   \n",
       "75%                2508.750000              169.250000   \n",
       "max                3498.000000             1096.000000   \n",
       "\n",
       "       total_navigations_fav2  driven_km_drives  duration_minutes_drives  \\\n",
       "count              700.000000        700.000000               700.000000   \n",
       "mean                30.371429       3935.967029              1795.123358   \n",
       "std                 46.306984       2443.107121              1419.242246   \n",
       "min                  0.000000        290.119811                66.588493   \n",
       "25%                  0.000000       2119.344818               779.009271   \n",
       "50%                 10.000000       3421.156721              1414.966279   \n",
       "75%                 43.000000       5166.097373              2443.955404   \n",
       "max                352.000000      15135.391280              9746.253023   \n",
       "\n",
       "       activity_days  driving_days  \n",
       "count     700.000000    700.000000  \n",
       "mean       15.382857     12.125714  \n",
       "std         8.772714      7.626373  \n",
       "min         0.000000      0.000000  \n",
       "25%         8.000000      6.000000  \n",
       "50%        15.000000     12.000000  \n",
       "75%        23.000000     18.000000  \n",
       "max        31.000000     30.000000  "
      ]
     },
     "execution_count": 5,
     "metadata": {},
     "output_type": "execute_result"
    }
   ],
   "source": [
    "# Aislar las filas con valores nulos\n",
    "filas_con_nulos = df[df.isnull().any(axis=1)]\n",
    "\n",
    "# Mostrar estadísticas resumidas de filas con valores nulos\n",
    "filas_con_nulos.describe()\n"
   ]
  },
  {
   "cell_type": "code",
   "execution_count": 6,
   "metadata": {
    "id": "W77hp8q3w-zi"
   },
   "outputs": [
    {
     "data": {
      "text/html": [
       "<div>\n",
       "<style scoped>\n",
       "    .dataframe tbody tr th:only-of-type {\n",
       "        vertical-align: middle;\n",
       "    }\n",
       "\n",
       "    .dataframe tbody tr th {\n",
       "        vertical-align: top;\n",
       "    }\n",
       "\n",
       "    .dataframe thead th {\n",
       "        text-align: right;\n",
       "    }\n",
       "</style>\n",
       "<table border=\"1\" class=\"dataframe\">\n",
       "  <thead>\n",
       "    <tr style=\"text-align: right;\">\n",
       "      <th></th>\n",
       "      <th>ID</th>\n",
       "      <th>sessions</th>\n",
       "      <th>drives</th>\n",
       "      <th>total_sessions</th>\n",
       "      <th>n_days_after_onboarding</th>\n",
       "      <th>total_navigations_fav1</th>\n",
       "      <th>total_navigations_fav2</th>\n",
       "      <th>driven_km_drives</th>\n",
       "      <th>duration_minutes_drives</th>\n",
       "      <th>activity_days</th>\n",
       "      <th>driving_days</th>\n",
       "    </tr>\n",
       "  </thead>\n",
       "  <tbody>\n",
       "    <tr>\n",
       "      <th>count</th>\n",
       "      <td>14299.000000</td>\n",
       "      <td>14299.000000</td>\n",
       "      <td>14299.000000</td>\n",
       "      <td>14299.000000</td>\n",
       "      <td>14299.000000</td>\n",
       "      <td>14299.000000</td>\n",
       "      <td>14299.000000</td>\n",
       "      <td>14299.000000</td>\n",
       "      <td>14299.000000</td>\n",
       "      <td>14299.000000</td>\n",
       "      <td>14299.000000</td>\n",
       "    </tr>\n",
       "    <tr>\n",
       "      <th>mean</th>\n",
       "      <td>7503.573117</td>\n",
       "      <td>80.623820</td>\n",
       "      <td>67.255822</td>\n",
       "      <td>189.547409</td>\n",
       "      <td>1751.822505</td>\n",
       "      <td>121.747395</td>\n",
       "      <td>29.638296</td>\n",
       "      <td>4044.401535</td>\n",
       "      <td>1864.199794</td>\n",
       "      <td>15.544653</td>\n",
       "      <td>12.182530</td>\n",
       "    </tr>\n",
       "    <tr>\n",
       "      <th>std</th>\n",
       "      <td>4331.207621</td>\n",
       "      <td>80.736502</td>\n",
       "      <td>65.947295</td>\n",
       "      <td>136.189764</td>\n",
       "      <td>1008.663834</td>\n",
       "      <td>147.713428</td>\n",
       "      <td>45.350890</td>\n",
       "      <td>2504.977970</td>\n",
       "      <td>1448.005047</td>\n",
       "      <td>9.016088</td>\n",
       "      <td>7.833835</td>\n",
       "    </tr>\n",
       "    <tr>\n",
       "      <th>min</th>\n",
       "      <td>0.000000</td>\n",
       "      <td>0.000000</td>\n",
       "      <td>0.000000</td>\n",
       "      <td>0.220211</td>\n",
       "      <td>4.000000</td>\n",
       "      <td>0.000000</td>\n",
       "      <td>0.000000</td>\n",
       "      <td>60.441250</td>\n",
       "      <td>18.282082</td>\n",
       "      <td>0.000000</td>\n",
       "      <td>0.000000</td>\n",
       "    </tr>\n",
       "    <tr>\n",
       "      <th>25%</th>\n",
       "      <td>3749.500000</td>\n",
       "      <td>23.000000</td>\n",
       "      <td>20.000000</td>\n",
       "      <td>90.457733</td>\n",
       "      <td>878.500000</td>\n",
       "      <td>10.000000</td>\n",
       "      <td>0.000000</td>\n",
       "      <td>2217.319909</td>\n",
       "      <td>840.181344</td>\n",
       "      <td>8.000000</td>\n",
       "      <td>5.000000</td>\n",
       "    </tr>\n",
       "    <tr>\n",
       "      <th>50%</th>\n",
       "      <td>7504.000000</td>\n",
       "      <td>56.000000</td>\n",
       "      <td>48.000000</td>\n",
       "      <td>158.718571</td>\n",
       "      <td>1749.000000</td>\n",
       "      <td>71.000000</td>\n",
       "      <td>9.000000</td>\n",
       "      <td>3496.545617</td>\n",
       "      <td>1479.394387</td>\n",
       "      <td>16.000000</td>\n",
       "      <td>12.000000</td>\n",
       "    </tr>\n",
       "    <tr>\n",
       "      <th>75%</th>\n",
       "      <td>11257.500000</td>\n",
       "      <td>111.000000</td>\n",
       "      <td>93.000000</td>\n",
       "      <td>253.540450</td>\n",
       "      <td>2627.500000</td>\n",
       "      <td>178.000000</td>\n",
       "      <td>43.000000</td>\n",
       "      <td>5299.972162</td>\n",
       "      <td>2466.928876</td>\n",
       "      <td>23.000000</td>\n",
       "      <td>19.000000</td>\n",
       "    </tr>\n",
       "    <tr>\n",
       "      <th>max</th>\n",
       "      <td>14998.000000</td>\n",
       "      <td>743.000000</td>\n",
       "      <td>596.000000</td>\n",
       "      <td>1216.154633</td>\n",
       "      <td>3500.000000</td>\n",
       "      <td>1236.000000</td>\n",
       "      <td>415.000000</td>\n",
       "      <td>21183.401890</td>\n",
       "      <td>15851.727160</td>\n",
       "      <td>31.000000</td>\n",
       "      <td>30.000000</td>\n",
       "    </tr>\n",
       "  </tbody>\n",
       "</table>\n",
       "</div>"
      ],
      "text/plain": [
       "                 ID      sessions        drives  total_sessions  \\\n",
       "count  14299.000000  14299.000000  14299.000000    14299.000000   \n",
       "mean    7503.573117     80.623820     67.255822      189.547409   \n",
       "std     4331.207621     80.736502     65.947295      136.189764   \n",
       "min        0.000000      0.000000      0.000000        0.220211   \n",
       "25%     3749.500000     23.000000     20.000000       90.457733   \n",
       "50%     7504.000000     56.000000     48.000000      158.718571   \n",
       "75%    11257.500000    111.000000     93.000000      253.540450   \n",
       "max    14998.000000    743.000000    596.000000     1216.154633   \n",
       "\n",
       "       n_days_after_onboarding  total_navigations_fav1  \\\n",
       "count             14299.000000            14299.000000   \n",
       "mean               1751.822505              121.747395   \n",
       "std                1008.663834              147.713428   \n",
       "min                   4.000000                0.000000   \n",
       "25%                 878.500000               10.000000   \n",
       "50%                1749.000000               71.000000   \n",
       "75%                2627.500000              178.000000   \n",
       "max                3500.000000             1236.000000   \n",
       "\n",
       "       total_navigations_fav2  driven_km_drives  duration_minutes_drives  \\\n",
       "count            14299.000000      14299.000000             14299.000000   \n",
       "mean                29.638296       4044.401535              1864.199794   \n",
       "std                 45.350890       2504.977970              1448.005047   \n",
       "min                  0.000000         60.441250                18.282082   \n",
       "25%                  0.000000       2217.319909               840.181344   \n",
       "50%                  9.000000       3496.545617              1479.394387   \n",
       "75%                 43.000000       5299.972162              2466.928876   \n",
       "max                415.000000      21183.401890             15851.727160   \n",
       "\n",
       "       activity_days  driving_days  \n",
       "count   14299.000000  14299.000000  \n",
       "mean       15.544653     12.182530  \n",
       "std         9.016088      7.833835  \n",
       "min         0.000000      0.000000  \n",
       "25%         8.000000      5.000000  \n",
       "50%        16.000000     12.000000  \n",
       "75%        23.000000     19.000000  \n",
       "max        31.000000     30.000000  "
      ]
     },
     "execution_count": 6,
     "metadata": {},
     "output_type": "execute_result"
    }
   ],
   "source": [
    "# Aislar las filas sin valores nulos\n",
    "filas_sin_nulos = df.dropna()\n",
    "# Mostrar estadísticas de resumen de filas sin valores nulos\n",
    "filas_sin_nulos.describe()\n"
   ]
  },
  {
   "cell_type": "markdown",
   "metadata": {
    "id": "sJpXfBZUlWC5"
   },
   "source": [
    "**Pregunta 1:** Si, pero la fierencia es minima por lo que no refleja nada relevante "
   ]
  },
  {
   "cell_type": "markdown",
   "metadata": {
    "id": "S2CupDgSlpm4"
   },
   "source": [
    "### **Tarea 2d. Valores nulos - recuento de dispositivos**\n",
    "\n",
    "A continuación, comprueba las dos poblaciones con respecto a la variable `dispositivo`.\n",
    "\n",
    "**Pregunta:** ¿Cuántos usuarios de iPhone tenían valores nulos y cuántos usuarios de Android tenían valores nulos?"
   ]
  },
  {
   "cell_type": "code",
   "execution_count": 7,
   "metadata": {
    "id": "IbCnokO8lsq3"
   },
   "outputs": [
    {
     "data": {
      "text/plain": [
       "iPhone     0.638571\n",
       "Android    0.361429\n",
       "Name: device, dtype: float64"
      ]
     },
     "execution_count": 7,
     "metadata": {},
     "output_type": "execute_result"
    }
   ],
   "source": [
    "# Obtener el recuento de valores nulos por dispositivo\n",
    "filas_con_nulos['device'].value_counts(normalize=True)"
   ]
  },
  {
   "cell_type": "markdown",
   "metadata": {
    "id": "JKfLfQQUltQk"
   },
   "source": [
    "**Pregunta :** de las 700 filas con valores nulos en iphone 447 y en android 253"
   ]
  },
  {
   "cell_type": "markdown",
   "metadata": {
    "id": "xodMNO1Ql5PZ"
   },
   "source": [
    "Ahora, de las filas con valores nulos, calcula el porcentaje con cada dispositivo&mdash;Android y iPhone. Puedes hacerlo directamente con la función [`value_counts()`](https://pandas.pydata.org/docs/reference/api/pandas.Series.value_counts.html) function."
   ]
  },
  {
   "cell_type": "code",
   "execution_count": 8,
   "metadata": {
    "id": "ajlCljYHmCTa"
   },
   "outputs": [
    {
     "data": {
      "text/plain": [
       "iPhone     0.638571\n",
       "Android    0.361429\n",
       "Name: device, dtype: float64"
      ]
     },
     "execution_count": 8,
     "metadata": {},
     "output_type": "execute_result"
    }
   ],
   "source": [
    "# Calcular % de nulos iPhone y nulos Android\n",
    "filas_con_nulos['device'].value_counts(normalize=True)"
   ]
  },
  {
   "cell_type": "markdown",
   "metadata": {
    "id": "dA_ps_fA3xn9"
   },
   "source": [
    "¿Cómo se compara esto con la proporción de dispositivos en el conjunto de datos completo?"
   ]
  },
  {
   "cell_type": "code",
   "execution_count": 9,
   "metadata": {
    "id": "Dm-qKyQNmCsQ"
   },
   "outputs": [
    {
     "data": {
      "text/plain": [
       "iPhone     0.644843\n",
       "Android    0.355157\n",
       "Name: device, dtype: float64"
      ]
     },
     "execution_count": 9,
     "metadata": {},
     "output_type": "execute_result"
    }
   ],
   "source": [
    "# Calcular el % de usuarios de iPhone y usuarios de Android en el conjunto de datos completo\n",
    "df[\"device\"].value_counts(normalize=True)\n"
   ]
  },
  {
   "cell_type": "markdown",
   "metadata": {
    "id": "eEIeGZdgmRh9"
   },
   "source": [
    "El porcentaje de valores omitidos por cada dispositivo es coherente con su representación en el conjunto de los datos.\n",
    "\n",
    "No hay nada que sugiera una causa no aleatoria de los datos que faltan."
   ]
  },
  {
   "cell_type": "markdown",
   "metadata": {
    "id": "uIzg4fXtmSTe"
   },
   "source": [
    "Examine los recuentos y porcentajes de usuarios que abandonaron frente a los que se quedaron. ¿Cuántos de cada grupo están representados en los datos?"
   ]
  },
  {
   "cell_type": "code",
   "execution_count": 10,
   "metadata": {
    "id": "zQ1mu8g9maYX"
   },
   "outputs": [
    {
     "name": "stdout",
     "output_type": "stream",
     "text": [
      "retained    11763\n",
      "churned      2536\n",
      "Name: label, dtype: int64 \n",
      "\n",
      "retained    0.822645\n",
      "churned     0.177355\n",
      "Name: label, dtype: float64\n"
     ]
    }
   ],
   "source": [
    "#Calcular el recuento de abandonos frente a retenciones(churned vs. retained)\n",
    "print(df[\"label\"].value_counts(),\"\\n\")\n",
    "print(df[\"label\"].value_counts(normalize=True))"
   ]
  },
  {
   "cell_type": "markdown",
   "metadata": {
    "id": "VYTZIIOKmfIz"
   },
   "source": [
    "Este conjunto de datos contiene un 82% de usuarios retenidos y un 18% de usuarios abandonados.\n",
    "\n",
    "A continuación, compare las medianas de cada variable para los usuarios que han abandonado y los que se han quedado. La razón para calcular la mediana y no la media es que no queremos que los valores atípicos afecten indebidamente a la representación de un usuario típico. Observe, por ejemplo, que el valor máximo de la columna \"km_recorridos\" es de 21.183 km. Eso es más de la mitad de la circunferencia de la Tierra."
   ]
  },
  {
   "cell_type": "code",
   "execution_count": 11,
   "metadata": {
    "id": "jzngebHRmmFA"
   },
   "outputs": [
    {
     "data": {
      "text/html": [
       "<div>\n",
       "<style scoped>\n",
       "    .dataframe tbody tr th:only-of-type {\n",
       "        vertical-align: middle;\n",
       "    }\n",
       "\n",
       "    .dataframe tbody tr th {\n",
       "        vertical-align: top;\n",
       "    }\n",
       "\n",
       "    .dataframe thead th {\n",
       "        text-align: right;\n",
       "    }\n",
       "</style>\n",
       "<table border=\"1\" class=\"dataframe\">\n",
       "  <thead>\n",
       "    <tr style=\"text-align: right;\">\n",
       "      <th></th>\n",
       "      <th>ID</th>\n",
       "      <th>sessions</th>\n",
       "      <th>drives</th>\n",
       "      <th>total_sessions</th>\n",
       "      <th>n_days_after_onboarding</th>\n",
       "      <th>total_navigations_fav1</th>\n",
       "      <th>total_navigations_fav2</th>\n",
       "      <th>driven_km_drives</th>\n",
       "      <th>duration_minutes_drives</th>\n",
       "      <th>activity_days</th>\n",
       "      <th>driving_days</th>\n",
       "    </tr>\n",
       "    <tr>\n",
       "      <th>label</th>\n",
       "      <th></th>\n",
       "      <th></th>\n",
       "      <th></th>\n",
       "      <th></th>\n",
       "      <th></th>\n",
       "      <th></th>\n",
       "      <th></th>\n",
       "      <th></th>\n",
       "      <th></th>\n",
       "      <th></th>\n",
       "      <th></th>\n",
       "    </tr>\n",
       "  </thead>\n",
       "  <tbody>\n",
       "    <tr>\n",
       "      <th>churned</th>\n",
       "      <td>7477.5</td>\n",
       "      <td>59.0</td>\n",
       "      <td>50.0</td>\n",
       "      <td>164.339042</td>\n",
       "      <td>1321.0</td>\n",
       "      <td>84.5</td>\n",
       "      <td>11.0</td>\n",
       "      <td>3652.655666</td>\n",
       "      <td>1607.183785</td>\n",
       "      <td>8.0</td>\n",
       "      <td>6.0</td>\n",
       "    </tr>\n",
       "    <tr>\n",
       "      <th>retained</th>\n",
       "      <td>7509.0</td>\n",
       "      <td>56.0</td>\n",
       "      <td>47.0</td>\n",
       "      <td>157.586756</td>\n",
       "      <td>1843.0</td>\n",
       "      <td>68.0</td>\n",
       "      <td>9.0</td>\n",
       "      <td>3464.684614</td>\n",
       "      <td>1458.046141</td>\n",
       "      <td>17.0</td>\n",
       "      <td>14.0</td>\n",
       "    </tr>\n",
       "  </tbody>\n",
       "</table>\n",
       "</div>"
      ],
      "text/plain": [
       "              ID  sessions  drives  total_sessions  n_days_after_onboarding  \\\n",
       "label                                                                         \n",
       "churned   7477.5      59.0    50.0      164.339042                   1321.0   \n",
       "retained  7509.0      56.0    47.0      157.586756                   1843.0   \n",
       "\n",
       "          total_navigations_fav1  total_navigations_fav2  driven_km_drives  \\\n",
       "label                                                                        \n",
       "churned                     84.5                    11.0       3652.655666   \n",
       "retained                    68.0                     9.0       3464.684614   \n",
       "\n",
       "          duration_minutes_drives  activity_days  driving_days  \n",
       "label                                                           \n",
       "churned               1607.183785            8.0           6.0  \n",
       "retained              1458.046141           17.0          14.0  "
      ]
     },
     "execution_count": 11,
     "metadata": {},
     "output_type": "execute_result"
    }
   ],
   "source": [
    "# Calcular los valores medios de todas las columnas para los usuarios abandonados y retenidos\n",
    "df.groupby(\"label\").median(numeric_only=True)"
   ]
  },
  {
   "cell_type": "markdown",
   "metadata": {
    "id": "NvnPFKS3mm71"
   },
   "source": [
    "Esto ofrece una instantánea interesante de los dos grupos, los que abandonaron y los que se quedaron:\n",
    "\n",
    "Los usuarios que abandonaron la aplicación condujeron una media de 3 trayectos más en el último mes que los que la mantuvieron, pero los que la mantuvieron utilizaron la aplicación el doble de días que los que la abandonaron en el mismo periodo.\n",
    "\n",
    "El usuario medio que abandonó la aplicación condujo unos 200 kilómetros y 2,5 horas más durante el último mes que el usuario medio que la mantuvo.\n",
    "\n",
    "Parece que los usuarios que abandonaron el servicio condujeron más en menos días, y sus viajes fueron más largos y distantes. Tal vez esto sugiera un perfil de usuario. ¡Sigue explorando!"
   ]
  },
  {
   "cell_type": "markdown",
   "metadata": {
    "id": "cUAkU-JInALK"
   },
   "source": [
    "Calcule la `mediana` de kilómetros recorridos en el último mes, tanto para los usuarios retenidos como para los abandonados.\n",
    "\n",
    "Empiece dividiendo la columna \"kilómetros recorridos\"  `driven_km_drives` por la columna \"recorridos\" `drives`. A continuación, agrupe los resultados por usuarios abandonados/retenidos y calcule la mediana de km/conducción de cada grupo."
   ]
  },
  {
   "cell_type": "code",
   "execution_count": 22,
   "metadata": {
    "id": "TVcP2PPhnBMZ"
   },
   "outputs": [
    {
     "data": {
      "text/html": [
       "<div>\n",
       "<style scoped>\n",
       "    .dataframe tbody tr th:only-of-type {\n",
       "        vertical-align: middle;\n",
       "    }\n",
       "\n",
       "    .dataframe tbody tr th {\n",
       "        vertical-align: top;\n",
       "    }\n",
       "\n",
       "    .dataframe thead th {\n",
       "        text-align: right;\n",
       "    }\n",
       "</style>\n",
       "<table border=\"1\" class=\"dataframe\">\n",
       "  <thead>\n",
       "    <tr style=\"text-align: right;\">\n",
       "      <th></th>\n",
       "      <th>km_por_viaje</th>\n",
       "    </tr>\n",
       "    <tr>\n",
       "      <th>label</th>\n",
       "      <th></th>\n",
       "    </tr>\n",
       "  </thead>\n",
       "  <tbody>\n",
       "    <tr>\n",
       "      <th>churned</th>\n",
       "      <td>74.109416</td>\n",
       "    </tr>\n",
       "    <tr>\n",
       "      <th>retained</th>\n",
       "      <td>75.014702</td>\n",
       "    </tr>\n",
       "  </tbody>\n",
       "</table>\n",
       "</div>"
      ],
      "text/plain": [
       "          km_por_viaje\n",
       "label                 \n",
       "churned      74.109416\n",
       "retained     75.014702"
      ]
     },
     "execution_count": 22,
     "metadata": {},
     "output_type": "execute_result"
    }
   ],
   "source": [
    "#Añade una columna a df llamada km_por_viaje `km_per_drive`\n",
    "df[\"km_por_viaje\"]=df[\"driven_km_drives\"]/df[\"drives\"]\n",
    "\n",
    "#Agrupar por `label`, calcular la mediana, y aislar por km per drive\n",
    "df.groupby(\"label\")[[\"km_por_viaje\"]].median(numeric_only=True)"
   ]
  },
  {
   "cell_type": "markdown",
   "metadata": {
    "id": "C6VicaRVnFzq"
   },
   "source": [
    "El usuario medio retenido condujo aproximadamente un kilómetro más por trayecto que el usuario medio que abandona . ¿Cuántos kilómetros condujo por día?\n",
    "\n",
    "Para calcular esta estadística, repita los pasos anteriores utilizando `driving_days` en lugar de `drives`."
   ]
  },
  {
   "cell_type": "code",
   "execution_count": 23,
   "metadata": {
    "id": "I6lD33kfnGQb"
   },
   "outputs": [
    {
     "data": {
      "text/html": [
       "<div>\n",
       "<style scoped>\n",
       "    .dataframe tbody tr th:only-of-type {\n",
       "        vertical-align: middle;\n",
       "    }\n",
       "\n",
       "    .dataframe tbody tr th {\n",
       "        vertical-align: top;\n",
       "    }\n",
       "\n",
       "    .dataframe thead th {\n",
       "        text-align: right;\n",
       "    }\n",
       "</style>\n",
       "<table border=\"1\" class=\"dataframe\">\n",
       "  <thead>\n",
       "    <tr style=\"text-align: right;\">\n",
       "      <th></th>\n",
       "      <th>km_por_día_de_conduccion</th>\n",
       "    </tr>\n",
       "    <tr>\n",
       "      <th>label</th>\n",
       "      <th></th>\n",
       "    </tr>\n",
       "  </thead>\n",
       "  <tbody>\n",
       "    <tr>\n",
       "      <th>churned</th>\n",
       "      <td>697.541999</td>\n",
       "    </tr>\n",
       "    <tr>\n",
       "      <th>retained</th>\n",
       "      <td>289.549333</td>\n",
       "    </tr>\n",
       "  </tbody>\n",
       "</table>\n",
       "</div>"
      ],
      "text/plain": [
       "          km_por_día_de_conduccion\n",
       "label                             \n",
       "churned                 697.541999\n",
       "retained                289.549333"
      ]
     },
     "execution_count": 23,
     "metadata": {},
     "output_type": "execute_result"
    }
   ],
   "source": [
    "# Añadir una columna a df llamada `km_por_día_de_conducción`\n",
    "df[\"km_por_día_de_conduccion\"]=df[\"driven_km_drives\"]/df[\"driving_days\"]\n",
    "\n",
    "# Agrupar por `etiqueta`, calcular la mediana y aislar por km por día de conducción\n",
    "df.groupby(\"label\")[[\"km_por_día_de_conduccion\"]].median(numeric_only=True)"
   ]
  },
  {
   "cell_type": "markdown",
   "metadata": {
    "id": "kIfSmukAnVSs"
   },
   "source": [
    "A continuación, calcule el número medio de trayectos por día de conducción para cada grupo."
   ]
  },
  {
   "cell_type": "code",
   "execution_count": 24,
   "metadata": {
    "id": "VAHqOO8endWX"
   },
   "outputs": [
    {
     "data": {
      "text/html": [
       "<div>\n",
       "<style scoped>\n",
       "    .dataframe tbody tr th:only-of-type {\n",
       "        vertical-align: middle;\n",
       "    }\n",
       "\n",
       "    .dataframe tbody tr th {\n",
       "        vertical-align: top;\n",
       "    }\n",
       "\n",
       "    .dataframe thead th {\n",
       "        text-align: right;\n",
       "    }\n",
       "</style>\n",
       "<table border=\"1\" class=\"dataframe\">\n",
       "  <thead>\n",
       "    <tr style=\"text-align: right;\">\n",
       "      <th></th>\n",
       "      <th>unidades_por_día_conducido</th>\n",
       "    </tr>\n",
       "    <tr>\n",
       "      <th>label</th>\n",
       "      <th></th>\n",
       "    </tr>\n",
       "  </thead>\n",
       "  <tbody>\n",
       "    <tr>\n",
       "      <th>churned</th>\n",
       "      <td>10.0000</td>\n",
       "    </tr>\n",
       "    <tr>\n",
       "      <th>retained</th>\n",
       "      <td>4.0625</td>\n",
       "    </tr>\n",
       "  </tbody>\n",
       "</table>\n",
       "</div>"
      ],
      "text/plain": [
       "          unidades_por_día_conducido\n",
       "label                               \n",
       "churned                      10.0000\n",
       "retained                      4.0625"
      ]
     },
     "execution_count": 24,
     "metadata": {},
     "output_type": "execute_result"
    }
   ],
   "source": [
    "# Añade una columna a df llamada `drives_per_driving_day`\n",
    "df[\"unidades_por_día_conducido\"]=df['drives'] / df['driving_days']\n",
    "# Group by `label`, calculate the median, and isolate for drives per driving day\n",
    "df.groupby(\"label\").median(numeric_only=True)[[\"unidades_por_día_conducido\"]]"
   ]
  },
  {
   "cell_type": "markdown",
   "metadata": {
    "id": "LVRAwsb1nv2L"
   },
   "source": [
    "El usuario medio que abandonó el servicio condujo `698 kilómetros cada día del mes pasado`, lo que supone casi un `240%` de la distancia por día de conducción de los usuarios que se `quedaron`. El usuario medio que abandonó el servicio recorrió un número de trayectos por día similarmente desproporcionado en comparación con los usuarios que lo mantuvieron.\n",
    "\n",
    "De estas cifras se desprende claramente que, independientemente de si un usuario abandona o no, los usuarios representados en estos datos conducen mucho. Probablemente, no sería arriesgado suponer que estos datos no representan a los conductores típicos en general. Tal vez los datos, y en particular la muestra de usuarios que cambiaron, contengan una elevada proporción de camioneros de larga distancia.\n",
    "\n",
    "Teniendo en cuenta lo mucho que conducen estos usuarios, valdría la pena recomendar a Waze que recopilara más datos sobre estos superconductores. Es posible que la razón por la que conducen tanto sea también la razón por la que la aplicación Waze no satisface sus necesidades específicas, que pueden diferir de las necesidades de un conductor más típico, como un viajero diario."
   ]
  },
  {
   "cell_type": "markdown",
   "metadata": {
    "id": "xc7Q6elLoD1R"
   },
   "source": [
    "Por último, examine si existe un desequilibrio en el número de usuarios que abandonan por tipo de dispositivo.\n",
    "\n",
    "Empieza por obtener los recuentos globales de cada tipo de dispositivo para cada grupo, los que han abandonado y los que se han quedado."
   ]
  },
  {
   "cell_type": "code",
   "execution_count": 47,
   "metadata": {
    "id": "LGkODIILoEp-"
   },
   "outputs": [
    {
     "data": {
      "text/plain": [
       "label     device \n",
       "churned   Android     891\n",
       "          iPhone     1645\n",
       "retained  Android    4183\n",
       "          iPhone     7580\n",
       "Name: device, dtype: int64"
      ]
     },
     "execution_count": 47,
     "metadata": {},
     "output_type": "execute_result"
    }
   ],
   "source": [
    "# Para cada etiqueta, calcula el número de usuarios de Android y de iPhone\n",
    "df.groupby('label')[\"device\"].value_counts().sort_values()"
   ]
  },
  {
   "cell_type": "markdown",
   "metadata": {
    "id": "yTVM6qFkoJs4"
   },
   "source": [
    "Ahora, dentro de cada grupo, churned y retained, calcula qué porcentaje era Android y qué porcentaje era iPhone."
   ]
  },
  {
   "cell_type": "code",
   "execution_count": 53,
   "metadata": {
    "id": "rx0ElsS6oO7y"
   },
   "outputs": [
    {
     "data": {
      "text/plain": [
       "label     device \n",
       "churned   iPhone     0.648659\n",
       "          Android    0.351341\n",
       "retained  iPhone     0.644393\n",
       "          Android    0.355607\n",
       "Name: device, dtype: float64"
      ]
     },
     "execution_count": 53,
     "metadata": {},
     "output_type": "execute_result"
    }
   ],
   "source": [
    "# Para cada etiqueta, calcula el porcentaje de usuarios de Android y de iPhone\n",
    "df.groupby('label')[\"device\"].value_counts(normalize=True)"
   ]
  },
  {
   "cell_type": "markdown",
   "metadata": {
    "id": "DQVIMPzroavO"
   },
   "source": [
    "La proporción de usuarios de iPhone y usuarios de Android es la misma en el grupo que ha abandonado y en el grupo que se ha quedado, y ambas proporciones coinciden con la proporción encontrada en el conjunto de datos."
   ]
  },
  {
   "cell_type": "markdown",
   "metadata": {
    "id": "tF_82VLgzrQm"
   },
   "source": [
    "<img src=\"images/Construct.png\" width=\"100\" height=\"100\" align=left>\n",
    "\n",
    "## **PACE: Construct**\n",
    "\n",
    "**Nota**: La fase de construcción no se aplica a este flujo de trabajo. El marco PACE puede adaptarse a los requisitos específicos de cualquier proyecto.\n",
    "\n"
   ]
  },
  {
   "cell_type": "markdown",
   "metadata": {
    "id": "BMHV86A6zrQo"
   },
   "source": [
    "<img src=\"images/Execute.png\" width=\"100\" height=\"100\" align=left>\n",
    "\n",
    "## **PACE: Execute**\n",
    "\n",
    "Considere las preguntas de su Documento de Estrategia PACE y las que figuran a continuación para elaborar su respuesta:"
   ]
  },
  {
   "cell_type": "markdown",
   "metadata": {
    "id": "u3HxcMZgz6iW"
   },
   "source": [
    "### **Tarea 3. Conclusión**\n",
    "\n",
    "Recuerde que su supervisora, May Santer, le pidió que compartiera sus conclusiones con el equipo de datos en un resumen ejecutivo. Considere las siguientes preguntas mientras se prepara para redactar su resumen. Piense en los puntos clave que desea compartir con el equipo y qué información es más relevante para el proyecto de rotación de usuarios.\n",
    "\n",
    "**Preguntas:**\n",
    "\n",
    "1. ¿Contenían los datos valores perdidos? ¿Cuántos y a qué variables afectaban? ¿Existe un patrón en los datos que faltan?\n",
    "\n",
    "2. ¿Cuál es la ventaja de utilizar la mediana de una muestra en lugar de la media?\n",
    "\n",
    "3. ¿Ha dado lugar tu investigación a otras preguntas que te gustaría explorar o plantear al equipo de Waze?\n",
    "\n",
    "4. ¿Qué porcentaje de los usuarios del conjunto de datos eran usuarios de Android y qué porcentaje eran usuarios de iPhone?\n",
    "\n",
    "5. ¿Cuáles fueron las características distintivas de los usuarios que abandonaron frente a los que se quedaron?\n",
    "\n",
    "6. ¿Existe una diferencia apreciable en la tasa de cancelación entre usuarios de iPhone y usuarios de Android?\n",
    "\n",
    "\n",
    "\n"
   ]
  },
  {
   "cell_type": "markdown",
   "metadata": {
    "id": "iMHlK7k5_2PV"
   },
   "source": [
    "**Pregunta 1:** si los datos contienen valores perdidos, 700 valores perdidos no afecta a las variables, no existe ningun patron de los valores faltantes \n",
    "\n",
    "**Pregunta 2:** La mediana muestra un valor mas certero a diferencia de la media que es afectada con los valores atipicos de dataset\n",
    "\n",
    "**Pregunta 3:** si ¿como influye el numero de dias desde que se registro un usuario hasta la salida?\n",
    "\n",
    "**Pregunta 4:** el 64% son de iPhone y el 35% son de  Android \n",
    "\n",
    "**Pregunta 5:** las caracteristicas mas distintivas son que los usuarios que habandonaron conducinas mas que los que no lo habandonaron \n",
    "\n",
    "**Pregunta 6:** no, no existe diferencia estan muy parejas las cancelaciones tanto de android como de iphone"
   ]
  },
  {
   "cell_type": "markdown",
   "metadata": {},
   "source": [
    "**¡Felicidades!** Has completado este laboratorio. Sin embargo, es posible que no veas una marca de verificación verde junto a este elemento en la plataforma de Coursera. Por favor, continúa tu progreso independientemente de la marca de verificación. Simplemente haga clic en el icono \"guardar\" en la parte superior de este cuaderno para asegurarse de que su trabajo ha sido registrado."
   ]
  }
 ],
 "metadata": {
  "colab": {
   "provenance": [
    {
     "file_id": "11e8ZirEhEEhZj7pNZmB8r_dPDEwRnfPR",
     "timestamp": 1671051831339
    },
    {
     "file_id": "1SoZM3Yq8C8BdYu-st3_BAlhze2_Z6Ilb",
     "timestamp": 1668798742100
    },
    {
     "file_id": "1U6q6WFOo7_Ka_C9cdq49KwAsI_lFX86-",
     "timestamp": 1668698832849
    },
    {
     "file_id": "1h6rKqbyzegmvnh5T6X1MhTFOXE6VUciq",
     "timestamp": 1666209449412
    },
    {
     "file_id": "1Vz66UR_ImIhJ4HEkCzdY_9E9QLKiboV1",
     "timestamp": 1663780048645
    }
   ],
   "toc_visible": true
  },
  "kernelspec": {
   "display_name": "Python 3",
   "language": "python",
   "name": "python3"
  },
  "language_info": {
   "codemirror_mode": {
    "name": "ipython",
    "version": 3
   },
   "file_extension": ".py",
   "mimetype": "text/x-python",
   "name": "python",
   "nbconvert_exporter": "python",
   "pygments_lexer": "ipython3",
   "version": "3.7.6"
  }
 },
 "nbformat": 4,
 "nbformat_minor": 1
}
